{
  "nbformat": 4,
  "nbformat_minor": 0,
  "metadata": {
    "kernelspec": {
      "display_name": "Python 3",
      "language": "python",
      "name": "python3"
    },
    "language_info": {
      "codemirror_mode": {
        "name": "ipython",
        "version": 3
      },
      "file_extension": ".py",
      "mimetype": "text/x-python",
      "name": "python",
      "nbconvert_exporter": "python",
      "pygments_lexer": "ipython3",
      "version": "3.7.6"
    },
    "colab": {
      "name": "Classifying Vaccine Misinformation using RNN.ipynb",
      "provenance": [],
      "toc_visible": true
    }
  },
  "cells": [
    {
      "cell_type": "markdown",
      "metadata": {
        "id": "houjBmU6XhHO"
      },
      "source": [
        "# Classifying Vaccine Misinformation using RNN"
      ]
    },
    {
      "cell_type": "code",
      "metadata": {
        "colab": {
          "base_uri": "https://localhost:8080/"
        },
        "id": "moe3P0qoZ5UV",
        "outputId": "71cbadc4-f0f1-4fd1-9731-34370808dc05"
      },
      "source": [
        "from google.colab import drive \n",
        "drive.mount('/content/drive/')"
      ],
      "execution_count": 1,
      "outputs": [
        {
          "output_type": "stream",
          "text": [
            "Mounted at /content/drive/\n"
          ],
          "name": "stdout"
        }
      ]
    },
    {
      "cell_type": "code",
      "metadata": {
        "colab": {
          "base_uri": "https://localhost:8080/"
        },
        "id": "6g3OmVKFZ8-a",
        "outputId": "b7cdf2a8-2e5a-4717-9558-47366b9e9aea"
      },
      "source": [
        "!pwd\n",
        "import os\n",
        "os.chdir('/content/drive/MyDrive/Social Media Analytics')\n",
        "!pwd"
      ],
      "execution_count": 2,
      "outputs": [
        {
          "output_type": "stream",
          "text": [
            "/content\n",
            "/content/drive/MyDrive/Social Media Analytics\n"
          ],
          "name": "stdout"
        }
      ]
    },
    {
      "cell_type": "code",
      "metadata": {
        "id": "I_0GT6y3aBpF"
      },
      "source": [
        ""
      ],
      "execution_count": null,
      "outputs": []
    },
    {
      "cell_type": "code",
      "metadata": {
        "id": "vTGE-cvjXhHU"
      },
      "source": [
        "# Read in data and split into training and test set\n",
        "# NOTE: we are NOT cleaning the data\n",
        "import numpy as np\n",
        "import pandas as pd\n",
        "from sklearn.model_selection import train_test_split\n",
        "pd.set_option('display.max_colwidth', 1000)\n",
        "\n",
        "messages = pd.read_csv('information1.csv', encoding='latin-1')\n",
        "\n",
        "\n",
        "\n"
      ],
      "execution_count": 42,
      "outputs": []
    },
    {
      "cell_type": "code",
      "metadata": {
        "id": "WHARyEd4wvnc"
      },
      "source": [
        "text = messages['text']"
      ],
      "execution_count": 43,
      "outputs": []
    },
    {
      "cell_type": "markdown",
      "metadata": {
        "id": "AJSo7s4syo98"
      },
      "source": [
        "# Preprocessing Text data by removing punctuation, stopwords,stemming and tokenization"
      ]
    },
    {
      "cell_type": "code",
      "metadata": {
        "colab": {
          "base_uri": "https://localhost:8080/"
        },
        "id": "MFjBYH6zwgcH",
        "outputId": "f14d4774-3f6a-4341-895b-6dacaf5bb346"
      },
      "source": [
        "import re\n",
        "import nltk\n",
        "\n",
        "import string\n",
        "exclude = set(string.punctuation)\n",
        "\n",
        "# We need this dataset in order to use the tokenizer\n",
        "nltk.download('punkt')\n",
        "from nltk.tokenize import word_tokenize\n",
        "\n",
        "# Also download the list of stopwords to filter out\n",
        "nltk.download('stopwords')\n",
        "from nltk.corpus import stopwords\n",
        "\n",
        "sws = set(stopwords.words('english'))\n",
        "sws.add('rt') # Tweet specific stop-words\n",
        "sws.add(\"…\")\n",
        "\n",
        "from nltk.stem.porter import PorterStemmer\n",
        "stemmer = PorterStemmer()\n",
        "\n",
        "def process_text(text):\n",
        "    # Make all the strings lowercase and remove non alphabetic characters (punctuations)\n",
        "    text = re.sub('[^A-Za-z]', ' ', text.lower())\n",
        "    \n",
        "    # Tokenize the text; this is, separate every sentence into a list of words\n",
        "    # Since the text is already split into sentences you don't have to call sent_tokenize\n",
        "    tokenized_text = word_tokenize(text)\n",
        "    \n",
        "    #tokenized_text = [word_tokenize(text) for word in text if word not in exclude]\n",
        "                    \n",
        "    \n",
        "    # Remove the stopwords and stem each word to its root\n",
        "    clean_text = [\n",
        "        stemmer.stem(word) for word in tokenized_text\n",
        "        if word not in sws\n",
        "    ]\n",
        "\n",
        "    # Remember, this final output is a list of words\n",
        "    return clean_text"
      ],
      "execution_count": 44,
      "outputs": [
        {
          "output_type": "stream",
          "text": [
            "[nltk_data] Downloading package punkt to /root/nltk_data...\n",
            "[nltk_data]   Unzipping tokenizers/punkt.zip.\n",
            "[nltk_data] Downloading package stopwords to /root/nltk_data...\n",
            "[nltk_data]   Package stopwords is already up-to-date!\n"
          ],
          "name": "stdout"
        }
      ]
    },
    {
      "cell_type": "code",
      "metadata": {
        "id": "XHiqbLHowz1R"
      },
      "source": [
        "clean_text = [process_text(text) for text in text]"
      ],
      "execution_count": 46,
      "outputs": []
    },
    {
      "cell_type": "code",
      "metadata": {
        "colab": {
          "base_uri": "https://localhost:8080/"
        },
        "id": "5vL57IpIxZl9",
        "outputId": "97cd734a-b4ea-48c8-d1b5-db0b1c76f8df"
      },
      "source": [
        "clean_text[2]"
      ],
      "execution_count": 48,
      "outputs": [
        {
          "output_type": "execute_result",
          "data": {
            "text/plain": [
              "['nobodi',\n",
              " 'talk',\n",
              " 'efficaci',\n",
              " 'covidvaccin',\n",
              " 'emerg',\n",
              " 'covid',\n",
              " 'variant',\n",
              " 'sure',\n",
              " 'inocul',\n",
              " 'vaccin',\n",
              " 'littl',\n",
              " 'protect',\n",
              " 'variant',\n",
              " 'use',\n",
              " 'efficaci',\n",
              " 'amp',\n",
              " 'updat',\n",
              " 'vaccin',\n",
              " 'due',\n",
              " 'releas',\n",
              " 'normanswan']"
            ]
          },
          "metadata": {
            "tags": []
          },
          "execution_count": 48
        }
      ]
    },
    {
      "cell_type": "code",
      "metadata": {
        "id": "DCCAdBBnvfHA"
      },
      "source": [
        "messages['clean_text'] = clean_text"
      ],
      "execution_count": 49,
      "outputs": []
    },
    {
      "cell_type": "code",
      "metadata": {
        "colab": {
          "base_uri": "https://localhost:8080/",
          "height": 306
        },
        "id": "2qGGjTBTu2cK",
        "outputId": "465e22be-f7e6-4dd3-8772-08ccdeac6b8d"
      },
      "source": [
        "messages.head()"
      ],
      "execution_count": 50,
      "outputs": [
        {
          "output_type": "execute_result",
          "data": {
            "text/html": [
              "<div>\n",
              "<style scoped>\n",
              "    .dataframe tbody tr th:only-of-type {\n",
              "        vertical-align: middle;\n",
              "    }\n",
              "\n",
              "    .dataframe tbody tr th {\n",
              "        vertical-align: top;\n",
              "    }\n",
              "\n",
              "    .dataframe thead th {\n",
              "        text-align: right;\n",
              "    }\n",
              "</style>\n",
              "<table border=\"1\" class=\"dataframe\">\n",
              "  <thead>\n",
              "    <tr style=\"text-align: right;\">\n",
              "      <th></th>\n",
              "      <th>text</th>\n",
              "      <th>labels</th>\n",
              "      <th>clean_text</th>\n",
              "    </tr>\n",
              "  </thead>\n",
              "  <tbody>\n",
              "    <tr>\n",
              "      <th>0</th>\n",
              "      <td>RT @pranavmahajan: This is important regarding #CovidVaccines. Pls read &amp;amp; share.\\n\\nCredit: @IndiaToday https://t.co/UNkzZRDmfl</td>\n",
              "      <td>1.0</td>\n",
              "      <td>[pranavmahajan, import, regard, covidvaccin, pl, read, amp, share, credit, indiatoday, http, co, unkzzrdmfl]</td>\n",
              "    </tr>\n",
              "    <tr>\n",
              "      <th>1</th>\n",
              "      <td>#CovidVaccines between #GenZ and #Millennials are the next #Challenge for ðºð¸ and ð¬ð§. ðââï¸\\nhttps://t.co/eHG5jKIrWS</td>\n",
              "      <td>0.0</td>\n",
              "      <td>[covidvaccin, genz, millenni, next, challeng, http, co, ehg, jkirw]</td>\n",
              "    </tr>\n",
              "    <tr>\n",
              "      <th>2</th>\n",
              "      <td>Why is nobody talking about efficacy of #COVIDVaccines against emerging #COVID19 variants? Surely if we're being inoculated with a vaccine that has little protection against variants then why not use the most efficacious &amp;amp; when are updated vaccines due to be released? @normanswan</td>\n",
              "      <td>0.0</td>\n",
              "      <td>[nobodi, talk, efficaci, covidvaccin, emerg, covid, variant, sure, inocul, vaccin, littl, protect, variant, use, efficaci, amp, updat, vaccin, due, releas, normanswan]</td>\n",
              "    </tr>\n",
              "    <tr>\n",
              "      <th>3</th>\n",
              "      <td>@EvanLSolomon @fordnation All because #TrudeauFailedCanada  and did not purchase #COVIDVaccines  soon enough. we should of been giving the second shot by now but here we are scratching, borrowing and pleading with other countries to try to get enough vaccine just for people's first jab. #trudeauð©</td>\n",
              "      <td>1.0</td>\n",
              "      <td>[evanlsolomon, fordnat, trudeaufailedcanada, purchas, covidvaccin, soon, enough, give, second, shot, scratch, borrow, plead, countri, tri, get, enough, vaccin, peopl, first, jab, trudeau]</td>\n",
              "    </tr>\n",
              "    <tr>\n",
              "      <th>4</th>\n",
              "      <td>Who are you getting vaccinated for? #GetVaccinated #getthevax #COVIDVaccines https://t.co/xZNjMhi27M</td>\n",
              "      <td>1.0</td>\n",
              "      <td>[get, vaccin, getvaccin, getthevax, covidvaccin, http, co, xznjmhi]</td>\n",
              "    </tr>\n",
              "  </tbody>\n",
              "</table>\n",
              "</div>"
            ],
            "text/plain": [
              "                                                                                                                                                                                                                                                                                                           text  ...                                                                                                                                                                                   clean_text\n",
              "0                                                                                                                                                                           RT @pranavmahajan: This is important regarding #CovidVaccines. Pls read &amp; share.\\n\\nCredit: @IndiaToday https://t.co/UNkzZRDmfl  ...                                                                                 [pranavmahajan, import, regard, covidvaccin, pl, read, amp, share, credit, indiatoday, http, co, unkzzrdmfl]\n",
              "1                                                                                                                                                                       #CovidVaccines between #GenZ and #Millennials are the next #Challenge for ðºð¸ and ð¬ð§. ðââï¸\\nhttps://t.co/eHG5jKIrWS  ...                                                                                                                          [covidvaccin, genz, millenni, next, challeng, http, co, ehg, jkirw]\n",
              "2                  Why is nobody talking about efficacy of #COVIDVaccines against emerging #COVID19 variants? Surely if we're being inoculated with a vaccine that has little protection against variants then why not use the most efficacious &amp; when are updated vaccines due to be released? @normanswan  ...                      [nobodi, talk, efficaci, covidvaccin, emerg, covid, variant, sure, inocul, vaccin, littl, protect, variant, use, efficaci, amp, updat, vaccin, due, releas, normanswan]\n",
              "3  @EvanLSolomon @fordnation All because #TrudeauFailedCanada  and did not purchase #COVIDVaccines  soon enough. we should of been giving the second shot by now but here we are scratching, borrowing and pleading with other countries to try to get enough vaccine just for people's first jab. #trudeauð©  ...  [evanlsolomon, fordnat, trudeaufailedcanada, purchas, covidvaccin, soon, enough, give, second, shot, scratch, borrow, plead, countri, tri, get, enough, vaccin, peopl, first, jab, trudeau]\n",
              "4                                                                                                                                                                                                          Who are you getting vaccinated for? #GetVaccinated #getthevax #COVIDVaccines https://t.co/xZNjMhi27M  ...                                                                                                                          [get, vaccin, getvaccin, getthevax, covidvaccin, http, co, xznjmhi]\n",
              "\n",
              "[5 rows x 3 columns]"
            ]
          },
          "metadata": {
            "tags": []
          },
          "execution_count": 50
        }
      ]
    },
    {
      "cell_type": "code",
      "metadata": {
        "id": "1XpN05dGxz0A"
      },
      "source": [
        "X = messages['clean_text'][0:300]"
      ],
      "execution_count": 51,
      "outputs": []
    },
    {
      "cell_type": "code",
      "metadata": {
        "id": "qIVIUsx_XhHV"
      },
      "source": [
        "y = messages['labels'][0:300]"
      ],
      "execution_count": 52,
      "outputs": []
    },
    {
      "cell_type": "code",
      "metadata": {
        "id": "kdrr6gmuXhHW"
      },
      "source": [
        "X_train, X_test, y_train, y_test = train_test_split(X, y, test_size=0.2)"
      ],
      "execution_count": 53,
      "outputs": []
    },
    {
      "cell_type": "markdown",
      "metadata": {
        "id": "2rq2-Z2xXhHX"
      },
      "source": [
        "### Prep Data For Modeling"
      ]
    },
    {
      "cell_type": "code",
      "metadata": {
        "colab": {
          "base_uri": "https://localhost:8080/"
        },
        "id": "uGn04PLuXhHX",
        "outputId": "9233ea24-3d9f-426b-b1ed-0cef039dcde3"
      },
      "source": [
        "# Install keras\n",
        "!pip install -U keras"
      ],
      "execution_count": 8,
      "outputs": [
        {
          "output_type": "stream",
          "text": [
            "Requirement already up-to-date: keras in /usr/local/lib/python3.7/dist-packages (2.4.3)\n",
            "Requirement already satisfied, skipping upgrade: h5py in /usr/local/lib/python3.7/dist-packages (from keras) (2.10.0)\n",
            "Requirement already satisfied, skipping upgrade: pyyaml in /usr/local/lib/python3.7/dist-packages (from keras) (3.13)\n",
            "Requirement already satisfied, skipping upgrade: scipy>=0.14 in /usr/local/lib/python3.7/dist-packages (from keras) (1.4.1)\n",
            "Requirement already satisfied, skipping upgrade: numpy>=1.9.1 in /usr/local/lib/python3.7/dist-packages (from keras) (1.19.5)\n",
            "Requirement already satisfied, skipping upgrade: six in /usr/local/lib/python3.7/dist-packages (from h5py->keras) (1.15.0)\n"
          ],
          "name": "stdout"
        }
      ]
    },
    {
      "cell_type": "code",
      "metadata": {
        "id": "0qC1MlHPXhHX"
      },
      "source": [
        "# Import the tools we will need from keras\n",
        "from keras.preprocessing.text import Tokenizer\n",
        "from keras.preprocessing.sequence import pad_sequences"
      ],
      "execution_count": 54,
      "outputs": []
    },
    {
      "cell_type": "code",
      "metadata": {
        "id": "rLEBBwo4XhHY"
      },
      "source": [
        "# Initialize and fit the tokenizer\n",
        "tokenizer = Tokenizer()\n",
        "tokenizer.fit_on_texts(X_train)"
      ],
      "execution_count": 55,
      "outputs": []
    },
    {
      "cell_type": "code",
      "metadata": {
        "id": "h5gzjZKUXhHY"
      },
      "source": [
        "# Use that tokenizer to transform the text messages in the training and test sets\n",
        "X_train_seq = tokenizer.texts_to_sequences(X_train)\n",
        "X_test_seq = tokenizer.texts_to_sequences(X_test)"
      ],
      "execution_count": 56,
      "outputs": []
    },
    {
      "cell_type": "code",
      "metadata": {
        "colab": {
          "base_uri": "https://localhost:8080/"
        },
        "id": "eYnnJm1ZXhHY",
        "outputId": "3ada56ca-395c-4cc9-fb51-0b11c36c8712"
      },
      "source": [
        "# What do these sequences look like?\n",
        "X_train_seq[0]"
      ],
      "execution_count": 57,
      "outputs": [
        {
          "output_type": "execute_result",
          "data": {
            "text/plain": [
              "[52,\n",
              " 8,\n",
              " 1,\n",
              " 324,\n",
              " 325,\n",
              " 22,\n",
              " 59,\n",
              " 608,\n",
              " 609,\n",
              " 610,\n",
              " 60,\n",
              " 611,\n",
              " 22,\n",
              " 59,\n",
              " 151,\n",
              " 77,\n",
              " 4,\n",
              " 326,\n",
              " 78,\n",
              " 1]"
            ]
          },
          "metadata": {
            "tags": []
          },
          "execution_count": 57
        }
      ]
    },
    {
      "cell_type": "code",
      "metadata": {
        "id": "cXJ9ljoNXhHY"
      },
      "source": [
        "# Pad the sequences so each sequence is the same length\n",
        "X_train_seq_padded = pad_sequences(X_train_seq, 50)\n",
        "X_test_seq_padded = pad_sequences(X_test_seq, 50)"
      ],
      "execution_count": 58,
      "outputs": []
    },
    {
      "cell_type": "code",
      "metadata": {
        "colab": {
          "base_uri": "https://localhost:8080/"
        },
        "id": "y3GXzAAjXhHZ",
        "outputId": "a8ce8ef5-ea15-4fb2-f833-fa0f6e514e64"
      },
      "source": [
        "# What do these padded sequences look like?\n",
        "X_train_seq_padded[0]"
      ],
      "execution_count": 59,
      "outputs": [
        {
          "output_type": "execute_result",
          "data": {
            "text/plain": [
              "array([  0,   0,   0,   0,   0,   0,   0,   0,   0,   0,   0,   0,   0,\n",
              "         0,   0,   0,   0,   0,   0,   0,   0,   0,   0,   0,   0,   0,\n",
              "         0,   0,   0,   0,  52,   8,   1, 324, 325,  22,  59, 608, 609,\n",
              "       610,  60, 611,  22,  59, 151,  77,   4, 326,  78,   1], dtype=int32)"
            ]
          },
          "metadata": {
            "tags": []
          },
          "execution_count": 59
        }
      ]
    },
    {
      "cell_type": "markdown",
      "metadata": {
        "id": "o9FPu1iHXhHZ"
      },
      "source": [
        "### Build Model"
      ]
    },
    {
      "cell_type": "code",
      "metadata": {
        "id": "SlN-ZEqCXhHZ"
      },
      "source": [
        "# Import the tools needed from keras and define functions to calculate recall and precision\n",
        "import keras.backend as K\n",
        "from keras.layers import Dense, Embedding, LSTM\n",
        "from keras.models import Sequential\n",
        "\n",
        "def recall_m(y_true, y_pred):\n",
        "        true_positives = K.sum(K.round(K.clip(y_true * y_pred, 0, 1)))\n",
        "        possible_positives = K.sum(K.round(K.clip(y_true, 0, 1)))\n",
        "        recall = true_positives / (possible_positives + K.epsilon())\n",
        "        return recall\n",
        "\n",
        "def precision_m(y_true, y_pred):\n",
        "        true_positives = K.sum(K.round(K.clip(y_true * y_pred, 0, 1)))\n",
        "        predicted_positives = K.sum(K.round(K.clip(y_pred, 0, 1)))\n",
        "        precision = true_positives / (predicted_positives + K.epsilon())\n",
        "        return precision"
      ],
      "execution_count": 60,
      "outputs": []
    },
    {
      "cell_type": "code",
      "metadata": {
        "colab": {
          "base_uri": "https://localhost:8080/"
        },
        "id": "WutZBsKmXhHZ",
        "outputId": "6de4f77e-0962-4ac7-e2d9-3fc495d1bca0"
      },
      "source": [
        "# Construct a simple RNN model\n",
        "model = Sequential()\n",
        "\n",
        "model.add(Embedding(len(tokenizer.index_word)+1, 32))\n",
        "model.add(LSTM(32, dropout=0, recurrent_dropout=0))\n",
        "model.add(Dense(32, activation='relu'))\n",
        "model.add(Dense(1, activation='sigmoid'))\n",
        "model.summary()"
      ],
      "execution_count": 61,
      "outputs": [
        {
          "output_type": "stream",
          "text": [
            "Model: \"sequential_1\"\n",
            "_________________________________________________________________\n",
            "Layer (type)                 Output Shape              Param #   \n",
            "=================================================================\n",
            "embedding_1 (Embedding)      (None, None, 32)          56512     \n",
            "_________________________________________________________________\n",
            "lstm_1 (LSTM)                (None, 32)                8320      \n",
            "_________________________________________________________________\n",
            "dense_2 (Dense)              (None, 32)                1056      \n",
            "_________________________________________________________________\n",
            "dense_3 (Dense)              (None, 1)                 33        \n",
            "=================================================================\n",
            "Total params: 65,921\n",
            "Trainable params: 65,921\n",
            "Non-trainable params: 0\n",
            "_________________________________________________________________\n"
          ],
          "name": "stdout"
        }
      ]
    },
    {
      "cell_type": "code",
      "metadata": {
        "id": "izLFStm7XhHa"
      },
      "source": [
        "# Compile the model\n",
        "model.compile(optimizer='adam',\n",
        "              loss='binary_crossentropy',\n",
        "              metrics=['accuracy', precision_m, recall_m])"
      ],
      "execution_count": 62,
      "outputs": []
    },
    {
      "cell_type": "code",
      "metadata": {
        "colab": {
          "base_uri": "https://localhost:8080/"
        },
        "id": "Wo1R1HxpXhHa",
        "outputId": "33dbb7cd-514d-4071-ed8a-87d405dbe2e3"
      },
      "source": [
        "# Fit the RNN model\n",
        "history = model.fit(X_train_seq_padded, y_train, \n",
        "                    batch_size=32, epochs=15,\n",
        "                    validation_data=(X_test_seq_padded, y_test))"
      ],
      "execution_count": 63,
      "outputs": [
        {
          "output_type": "stream",
          "text": [
            "Epoch 1/15\n",
            "8/8 [==============================] - 3s 113ms/step - loss: 0.6898 - accuracy: 0.5676 - precision_m: 0.9456 - recall_m: 0.5973 - val_loss: 0.6592 - val_accuracy: 0.9667 - val_precision_m: 0.9688 - val_recall_m: 1.0000\n",
            "Epoch 2/15\n",
            "8/8 [==============================] - 0s 30ms/step - loss: 0.6501 - accuracy: 0.9389 - precision_m: 0.9398 - recall_m: 1.0000 - val_loss: 0.5784 - val_accuracy: 0.9667 - val_precision_m: 0.9688 - val_recall_m: 1.0000\n",
            "Epoch 3/15\n",
            "8/8 [==============================] - 0s 31ms/step - loss: 0.5561 - accuracy: 0.9253 - precision_m: 0.9262 - recall_m: 1.0000 - val_loss: 0.3327 - val_accuracy: 0.9667 - val_precision_m: 0.9688 - val_recall_m: 1.0000\n",
            "Epoch 4/15\n",
            "8/8 [==============================] - 0s 32ms/step - loss: 0.3253 - accuracy: 0.9252 - precision_m: 0.9226 - recall_m: 1.0000 - val_loss: 0.1665 - val_accuracy: 0.9667 - val_precision_m: 0.9688 - val_recall_m: 1.0000\n",
            "Epoch 5/15\n",
            "8/8 [==============================] - 0s 31ms/step - loss: 0.2228 - accuracy: 0.9424 - precision_m: 0.9424 - recall_m: 1.0000 - val_loss: 0.1478 - val_accuracy: 0.9667 - val_precision_m: 0.9688 - val_recall_m: 1.0000\n",
            "Epoch 6/15\n",
            "8/8 [==============================] - 0s 29ms/step - loss: 0.1933 - accuracy: 0.9519 - precision_m: 0.9527 - recall_m: 1.0000 - val_loss: 0.1456 - val_accuracy: 0.9667 - val_precision_m: 0.9688 - val_recall_m: 1.0000\n",
            "Epoch 7/15\n",
            "8/8 [==============================] - 0s 30ms/step - loss: 0.2232 - accuracy: 0.9412 - precision_m: 0.9395 - recall_m: 1.0000 - val_loss: 0.1468 - val_accuracy: 0.9667 - val_precision_m: 0.9688 - val_recall_m: 1.0000\n",
            "Epoch 8/15\n",
            "8/8 [==============================] - 0s 31ms/step - loss: 0.2327 - accuracy: 0.9370 - precision_m: 0.9361 - recall_m: 1.0000 - val_loss: 0.1518 - val_accuracy: 0.9667 - val_precision_m: 0.9688 - val_recall_m: 1.0000\n",
            "Epoch 9/15\n",
            "8/8 [==============================] - 0s 30ms/step - loss: 0.2353 - accuracy: 0.9353 - precision_m: 0.9361 - recall_m: 1.0000 - val_loss: 0.1550 - val_accuracy: 0.9667 - val_precision_m: 0.9688 - val_recall_m: 1.0000\n",
            "Epoch 10/15\n",
            "8/8 [==============================] - 0s 29ms/step - loss: 0.2460 - accuracy: 0.9302 - precision_m: 0.9310 - recall_m: 1.0000 - val_loss: 0.1533 - val_accuracy: 0.9667 - val_precision_m: 0.9688 - val_recall_m: 1.0000\n",
            "Epoch 11/15\n",
            "8/8 [==============================] - 0s 33ms/step - loss: 0.2088 - accuracy: 0.9441 - precision_m: 0.9433 - recall_m: 1.0000 - val_loss: 0.1461 - val_accuracy: 0.9667 - val_precision_m: 0.9688 - val_recall_m: 1.0000\n",
            "Epoch 12/15\n",
            "8/8 [==============================] - 0s 36ms/step - loss: 0.1816 - accuracy: 0.9527 - precision_m: 0.9536 - recall_m: 1.0000 - val_loss: 0.1442 - val_accuracy: 0.9667 - val_precision_m: 0.9688 - val_recall_m: 1.0000\n",
            "Epoch 13/15\n",
            "8/8 [==============================] - 0s 30ms/step - loss: 0.1821 - accuracy: 0.9505 - precision_m: 0.9496 - recall_m: 1.0000 - val_loss: 0.1408 - val_accuracy: 0.9667 - val_precision_m: 0.9688 - val_recall_m: 1.0000\n",
            "Epoch 14/15\n",
            "8/8 [==============================] - 0s 30ms/step - loss: 0.2434 - accuracy: 0.9229 - precision_m: 0.9229 - recall_m: 1.0000 - val_loss: 0.1379 - val_accuracy: 0.9667 - val_precision_m: 0.9688 - val_recall_m: 1.0000\n",
            "Epoch 15/15\n",
            "8/8 [==============================] - 0s 32ms/step - loss: 0.1416 - accuracy: 0.9599 - precision_m: 0.9573 - recall_m: 1.0000 - val_loss: 0.1256 - val_accuracy: 0.9667 - val_precision_m: 0.9688 - val_recall_m: 1.0000\n"
          ],
          "name": "stdout"
        }
      ]
    },
    {
      "cell_type": "code",
      "metadata": {
        "colab": {
          "base_uri": "https://localhost:8080/",
          "height": 312
        },
        "id": "Mze5_wEhXhHb",
        "outputId": "849cdcd7-0526-4ca4-b020-0423223e58a8"
      },
      "source": [
        "from matplotlib import pyplot\n",
        "pyplot.title('Learning Curves')\n",
        "pyplot.xlabel('Epoch')\n",
        "pyplot.ylabel('Loss')\n",
        "\n",
        "pyplot.plot(history.history['loss'])\n",
        "#pyplot.plot(history.history['val_loss'], label='val')\n",
        "pyplot.legend()\n",
        "pyplot.show()"
      ],
      "execution_count": 65,
      "outputs": [
        {
          "output_type": "stream",
          "text": [
            "No handles with labels found to put in legend.\n"
          ],
          "name": "stderr"
        },
        {
          "output_type": "display_data",
          "data": {
            "image/png": "[encoded data removed]",
            "text/plain": [
              "<Figure size 432x288 with 1 Axes>"
            ]
          },
          "metadata": {
            "tags": [],
            "needs_background": "light"
          }
        }
      ]
    }
  ]
}